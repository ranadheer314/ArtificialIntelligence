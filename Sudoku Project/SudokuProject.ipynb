{
 "cells": [
  {
   "cell_type": "code",
   "execution_count": 17,
   "metadata": {},
   "outputs": [],
   "source": [
    "def cross(a,b):\n",
    "    return [s+t for s in a for t in b]"
   ]
  },
  {
   "cell_type": "code",
   "execution_count": 18,
   "metadata": {},
   "outputs": [],
   "source": [
    "rows=\"ABCDEFGHI\"\n",
    "cols=\"123456789\"\n",
    "boxes=cross(rows,cols)\n",
    "stringSudoku='..3.2.6..9..3.5..1..18.64....81.29..7.......8..67.82....26.95..8..2.3..9..5.1.3..'"
   ]
  },
  {
   "cell_type": "code",
   "execution_count": 19,
   "metadata": {},
   "outputs": [],
   "source": [
    "row_units = [cross(r, cols) for r in rows]\n",
    "\n",
    "column_units = [cross(rows, c) for c in cols]\n",
    "\n",
    "square_units = [cross(rs, cs) for rs in ('ABC','DEF','GHI') for cs in ('123','456','789')]\n",
    "\n",
    "unitlist = row_units + column_units + square_units\n",
    "units = dict((s, [u for u in unitlist if s in u]) for s in boxes)\n",
    "peers = dict((s, set(sum(units[s],[]))-set([s])) for s in boxes)"
   ]
  },
  {
   "cell_type": "code",
   "execution_count": 20,
   "metadata": {},
   "outputs": [],
   "source": [
    "def display(values):\n",
    "    width = 1+max(len(values[s]) for s in boxes)\n",
    "    line = '+'.join(['-'*(width*3)]*3)\n",
    "    for r in rows:\n",
    "        print(''.join(values[r+c].center(width)+('|' if c in '36' else '')\n",
    "                      for c in cols))\n",
    "        if r in 'CF': print(line)\n",
    "    return"
   ]
  },
  {
   "cell_type": "code",
   "execution_count": 21,
   "metadata": {},
   "outputs": [],
   "source": [
    "def dictSudoku(boxes,sud):\n",
    "    sudoku={}\n",
    "    for i in range(len(sud)):\n",
    "        sudoku[boxes[i]]=sud[i]\n",
    "    return sudoku"
   ]
  },
  {
   "cell_type": "code",
   "execution_count": 22,
   "metadata": {},
   "outputs": [],
   "source": [
    "#modified sudoku by filling missing values\n",
    "def boxValues(grid):\n",
    "    sudoku={}\n",
    "    for i in grid:\n",
    "        if(grid[i]=='.'):\n",
    "            sudoku[i]='123456789'\n",
    "        else:\n",
    "            sudoku[i]=grid[i]\n",
    "    return sudoku"
   ]
  },
  {
   "cell_type": "code",
   "execution_count": 23,
   "metadata": {},
   "outputs": [],
   "source": [
    "sudoku=dictSudoku(boxes,stringSudoku)\n",
    "values=boxValues(sudoku)"
   ]
  },
  {
   "cell_type": "code",
   "execution_count": 26,
   "metadata": {},
   "outputs": [],
   "source": [
    "def eliminate_o(values):\n",
    "    def peers(A):\n",
    "        if('ABC'.find(A[0])+1):\n",
    "            first='ABC'\n",
    "        elif('DEF'.find(A[0])+1):\n",
    "            first='DEF'\n",
    "        elif('GHI'.find(A[0])+1):\n",
    "            first='GHI'\n",
    "        if('123'.find(A[1])+1):\n",
    "            second='123'\n",
    "        elif('456'.find(A[1])+1):\n",
    "            second='456'\n",
    "        elif('789'.find(A[1])+1):\n",
    "            second='789'\n",
    "        return [s+t for s in first for t in second]\n",
    "\n",
    "    for i in values:\n",
    "        if(len(values[i])!=1):\n",
    "            for c in cols:\n",
    "                if(len(values[i[0]+c])==1 and (i[0]+c)!=i):\n",
    "                    values[i]=values[i].replace(values[i[0]+c],'')\n",
    "            for r in rows:\n",
    "                if(len(values[r+i[1]])==1 and (r+i[1])!=i):\n",
    "                    values[i]=values[i].replace(values[r+i[1]],'')\n",
    "            for cr in peers(i):\n",
    "                if(len(values[cr])==1 and cr!=i):\n",
    "                    values[i]=values[i].replace(values[cr],'')\n",
    "    return values          "
   ]
  },
  {
   "cell_type": "code",
   "execution_count": 27,
   "metadata": {},
   "outputs": [],
   "source": [
    "def eliminate(values):\n",
    "    solved_values = [box for box in values.keys() if len(values[box]) == 1]\n",
    "    for box in solved_values:\n",
    "        digit = values[box]\n",
    "        for peer in peers[box]:\n",
    "            values[peer] = values[peer].replace(digit,'')\n",
    "    return values       "
   ]
  },
  {
   "cell_type": "code",
   "execution_count": 28,
   "metadata": {},
   "outputs": [],
   "source": [
    "def only_choice(values):\n",
    "    for box in unitlist:\n",
    "        #print(box)\n",
    "        for digit in '123456789':\n",
    "            collect=[]\n",
    "            for cell in box:\n",
    "                if digit in values[cell]:\n",
    "                    collect.append(cell)\n",
    "            if(len(collect)==1):\n",
    "                values[collect[0]]=digit\n",
    "    return values"
   ]
  },
  {
   "cell_type": "code",
   "execution_count": 29,
   "metadata": {},
   "outputs": [],
   "source": [
    "def reduce_puzzle(values):\n",
    "    stalled = False\n",
    "    while not stalled:\n",
    "        solved_values_before = len([box for box in values.keys() if len(values[box]) == 1])\n",
    "        sudoku=eliminate(values)\n",
    "        sudoku=only_choice(sudoku)\n",
    "        solved_values_after = len([box for box in values.keys() if len(values[box]) == 1])\n",
    "        stalled = solved_values_before == solved_values_after\n",
    "        if len([box for box in values.keys() if len(values[box]) == 0]):\n",
    "            return False\n",
    "    return values"
   ]
  },
  {
   "cell_type": "code",
   "execution_count": 54,
   "metadata": {},
   "outputs": [],
   "source": [
    "def reducePuzzle(values):\n",
    "    values=reduce_puzzle(values)\n",
    "    if values is False:\n",
    "        return False\n",
    "    length=0\n",
    "    for b in values.keys():\n",
    "        if(len(values[b])==1):\n",
    "            length+=1\n",
    "    if(length==81):\n",
    "        return values\n",
    "    else:\n",
    "        n,s = min((len(values[s]), s) for s in boxes if len(values[s]) > 1)\n",
    "        temp1=values[s]\n",
    "        for one in temp1:\n",
    "            valuesT=values.copy()\n",
    "            valuesT[s]=one\n",
    "            check=reducePuzzle(valuesT)\n",
    "            if check:\n",
    "                return check "
   ]
  },
  {
   "cell_type": "code",
   "execution_count": null,
   "metadata": {},
   "outputs": [],
   "source": [
    "stringSudoku='8..........36......7..9.2...5...7.......457.....1...3...1....68..85...1..9....4..'\n",
    "sudoku=dictSudoku(boxes,stringSudoku)\n",
    "values=boxValues(sudoku)"
   ]
  },
  {
   "cell_type": "code",
   "execution_count": 67,
   "metadata": {},
   "outputs": [
    {
     "name": "stdout",
     "output_type": "stream",
     "text": [
      "8 1 2 |7 5 3 |6 4 9 \n",
      "9 4 3 |6 8 2 |1 7 5 \n",
      "6 7 5 |4 9 1 |2 8 3 \n",
      "------+------+------\n",
      "1 5 4 |2 3 7 |8 9 6 \n",
      "3 6 9 |8 4 5 |7 2 1 \n",
      "2 8 7 |1 6 9 |5 3 4 \n",
      "------+------+------\n",
      "5 2 1 |9 7 4 |3 6 8 \n",
      "4 3 8 |5 2 6 |9 1 7 \n",
      "7 9 6 |3 1 8 |4 5 2 \n"
     ]
    }
   ],
   "source": [
    "display(reducePuzzle(values))"
   ]
  }
 ],
 "metadata": {
  "kernelspec": {
   "display_name": "Python 3",
   "language": "python",
   "name": "python3"
  },
  "language_info": {
   "codemirror_mode": {
    "name": "ipython",
    "version": 3
   },
   "file_extension": ".py",
   "mimetype": "text/x-python",
   "name": "python",
   "nbconvert_exporter": "python",
   "pygments_lexer": "ipython3",
   "version": "3.8.3"
  }
 },
 "nbformat": 4,
 "nbformat_minor": 4
}
